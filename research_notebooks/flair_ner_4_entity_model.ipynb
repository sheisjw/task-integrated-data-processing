{
 "cells": [
  {
   "cell_type": "markdown",
   "metadata": {
    "colab_type": "text",
    "id": "wFxY_T4w9XhU"
   },
   "source": [
    "This notebook added testing prediction results"
   ]
  },
  {
   "cell_type": "code",
   "execution_count": 1,
   "metadata": {
    "ExecuteTime": {
     "end_time": "2021-02-08T05:13:25.543735Z",
     "start_time": "2021-02-08T05:13:25.541664Z"
    },
    "colab": {},
    "colab_type": "code",
    "id": "81XeRD1-IFMo"
   },
   "outputs": [],
   "source": [
    "# !pip install flair"
   ]
  },
  {
   "cell_type": "markdown",
   "metadata": {
    "colab_type": "text",
    "id": "ftUwGMwBRohX"
   },
   "source": [
    "# Train a model using own data and flair embedding"
   ]
  },
  {
   "cell_type": "code",
   "execution_count": 2,
   "metadata": {
    "ExecuteTime": {
     "end_time": "2021-02-08T05:13:30.461949Z",
     "start_time": "2021-02-08T05:13:25.546514Z"
    },
    "colab": {},
    "colab_type": "code",
    "id": "1TDgO8EK1Csf"
   },
   "outputs": [
    {
     "name": "stderr",
     "output_type": "stream",
     "text": [
      "I0208 13:13:26.811664 4302675392 file_utils.py:39] PyTorch version 1.6.0 available.\n",
      "I0208 13:13:30.224641 4302675392 textcleaner.py:37] 'pattern' package not found; tag filters are not available for English\n"
     ]
    }
   ],
   "source": [
    "import os\n",
    "import sys\n",
    "from typing import List\n",
    "from flair.data import Corpus\n",
    "from flair.datasets import ColumnCorpus\n",
    "from flair.embeddings import TokenEmbeddings, StackedEmbeddings, FlairEmbeddings, BytePairEmbeddings\n",
    "from flair.models import SequenceTagger\n",
    "from flair.trainers import ModelTrainer\n",
    "from flair.visual.training_curves import Plotter\n",
    "from seqeval.metrics import classification_report as classification_report_entity"
   ]
  },
  {
   "cell_type": "code",
   "execution_count": 3,
   "metadata": {
    "ExecuteTime": {
     "end_time": "2021-02-08T05:13:30.472538Z",
     "start_time": "2021-02-08T05:13:30.464316Z"
    }
   },
   "outputs": [],
   "source": [
    "sys.path.append('../shared_functions')\n",
    "from preprocess import read_file"
   ]
  },
  {
   "cell_type": "code",
   "execution_count": 4,
   "metadata": {
    "ExecuteTime": {
     "end_time": "2021-02-08T05:37:22.439850Z",
     "start_time": "2021-02-08T05:13:30.474630Z"
    },
    "colab": {
     "base_uri": "https://localhost:8080/",
     "height": 1000
    },
    "colab_type": "code",
    "id": "H2ogbI-gKCFr",
    "outputId": "a89d010f-9d0e-400b-bfc4-9af3224e2e46"
   },
   "outputs": [
    {
     "name": "stdout",
     "output_type": "stream",
     "text": [
      "2021-02-08 13:13:30,478 Reading data from ../data_raw\n",
      "2021-02-08 13:13:30,479 Train: ../data_raw/data_iob_0911_train.txt\n",
      "2021-02-08 13:13:30,480 Dev: None\n",
      "2021-02-08 13:13:30,480 Test: None\n"
     ]
    },
    {
     "name": "stderr",
     "output_type": "stream",
     "text": [
      "I0208 13:13:31.865997 4302675392 utils_any2vec.py:341] loading projection weights from /Users/i504346/.flair/embeddings/en/en.wiki.bpe.vs100000.d50.w2v.bin\n"
     ]
    },
    {
     "name": "stdout",
     "output_type": "stream",
     "text": [
      "Corpus: 8630 train + 959 dev + 1065 test sentences\n",
      "limit to topvar <B-CUSTOMERNAME> ' s activities\n",
      "[b'<unk>', b'O', b'B-CUSTOMERNAME', b'B-PERSON', b'I-PERSON', b'I-CUSTOMERNAME', b'B-DATE', b'I-DATE', b'B-LOCATION', b'I-LOCATION', b'in', b'<START>', b'<STOP>']\n"
     ]
    },
    {
     "name": "stderr",
     "output_type": "stream",
     "text": [
      "/Users/i504346/miniconda3/envs/py36/lib/python3.6/site-packages/smart_open/smart_open_lib.py:398: UserWarning: This function is deprecated, use smart_open.open instead. See the migration notes for details: https://github.com/RaRe-Technologies/smart_open/blob/master/README.rst#migrating-to-the-new-open-function\n",
      "  'See the migration notes for details: %s' % _MIGRATION_NOTES_URL\n",
      "I0208 13:13:33.842172 4302675392 utils_any2vec.py:405] loaded (100000, 50) matrix from /Users/i504346/.flair/embeddings/en/en.wiki.bpe.vs100000.d50.w2v.bin\n"
     ]
    },
    {
     "name": "stdout",
     "output_type": "stream",
     "text": [
      "2021-02-08 13:13:34,109 ----------------------------------------------------------------------------------------------------\n",
      "2021-02-08 13:13:34,110 Model: \"SequenceTagger(\n",
      "  (embeddings): StackedEmbeddings(\n",
      "    (list_embedding_0): BytePairEmbeddings(model=0-bpe-en-100000-50)\n",
      "    (list_embedding_1): FlairEmbeddings(\n",
      "      (lm): LanguageModel(\n",
      "        (drop): Dropout(p=0.05, inplace=False)\n",
      "        (encoder): Embedding(300, 100)\n",
      "        (rnn): LSTM(100, 2048)\n",
      "        (decoder): Linear(in_features=2048, out_features=300, bias=True)\n",
      "      )\n",
      "    )\n",
      "  )\n",
      "  (word_dropout): WordDropout(p=0.05)\n",
      "  (locked_dropout): LockedDropout(p=0.5)\n",
      "  (embedding2nn): Linear(in_features=2148, out_features=2148, bias=True)\n",
      "  (rnn): LSTM(2148, 256, batch_first=True, bidirectional=True)\n",
      "  (linear): Linear(in_features=512, out_features=13, bias=True)\n",
      "  (beta): 1.0\n",
      "  (weights): None\n",
      "  (weight_tensor) None\n",
      ")\"\n",
      "2021-02-08 13:13:34,111 ----------------------------------------------------------------------------------------------------\n",
      "2021-02-08 13:13:34,112 Corpus: \"Corpus: 8630 train + 959 dev + 1065 test sentences\"\n",
      "2021-02-08 13:13:34,112 ----------------------------------------------------------------------------------------------------\n",
      "2021-02-08 13:13:34,113 Parameters:\n",
      "2021-02-08 13:13:34,114  - learning_rate: \"0.1\"\n",
      "2021-02-08 13:13:34,114  - mini_batch_size: \"64\"\n",
      "2021-02-08 13:13:34,115  - patience: \"3\"\n",
      "2021-02-08 13:13:34,116  - anneal_factor: \"0.5\"\n",
      "2021-02-08 13:13:34,117  - max_epochs: \"5\"\n",
      "2021-02-08 13:13:34,118  - shuffle: \"True\"\n",
      "2021-02-08 13:13:34,119  - train_with_dev: \"False\"\n",
      "2021-02-08 13:13:34,120  - batch_growth_annealing: \"False\"\n",
      "2021-02-08 13:13:34,120 ----------------------------------------------------------------------------------------------------\n",
      "2021-02-08 13:13:34,121 Model training base path: \"flair_model\"\n",
      "2021-02-08 13:13:34,122 ----------------------------------------------------------------------------------------------------\n",
      "2021-02-08 13:13:34,123 Device: cpu\n",
      "2021-02-08 13:13:34,123 ----------------------------------------------------------------------------------------------------\n",
      "2021-02-08 13:13:34,124 Embeddings storage mode: cpu\n",
      "2021-02-08 13:13:34,126 ----------------------------------------------------------------------------------------------------\n",
      "2021-02-08 13:14:14,582 epoch 1 - iter 13/135 - loss 14.89495791 - samples/sec: 20.57 - lr: 0.100000\n",
      "2021-02-08 13:15:28,128 epoch 1 - iter 26/135 - loss 11.60467511 - samples/sec: 11.31 - lr: 0.100000\n",
      "2021-02-08 13:16:32,630 epoch 1 - iter 39/135 - loss 9.55016949 - samples/sec: 12.91 - lr: 0.100000\n",
      "2021-02-08 13:17:36,399 epoch 1 - iter 52/135 - loss 8.18735289 - samples/sec: 13.05 - lr: 0.100000\n",
      "2021-02-08 13:18:41,818 epoch 1 - iter 65/135 - loss 7.21171063 - samples/sec: 12.72 - lr: 0.100000\n",
      "2021-02-08 13:19:50,129 epoch 1 - iter 78/135 - loss 6.46732069 - samples/sec: 12.18 - lr: 0.100000\n",
      "2021-02-08 13:20:57,522 epoch 1 - iter 91/135 - loss 5.87535360 - samples/sec: 12.35 - lr: 0.100000\n",
      "2021-02-08 13:21:57,428 epoch 1 - iter 104/135 - loss 5.38134832 - samples/sec: 13.89 - lr: 0.100000\n",
      "2021-02-08 13:23:05,682 epoch 1 - iter 117/135 - loss 5.01225661 - samples/sec: 12.19 - lr: 0.100000\n",
      "2021-02-08 13:24:07,407 epoch 1 - iter 130/135 - loss 4.69729506 - samples/sec: 13.48 - lr: 0.100000\n",
      "2021-02-08 13:24:36,824 ----------------------------------------------------------------------------------------------------\n",
      "2021-02-08 13:24:36,828 EPOCH 1 done: loss 4.5896 - lr 0.1000000\n",
      "2021-02-08 13:25:48,370 DEV : loss 1.193814754486084 - score 0.8863\n",
      "2021-02-08 13:25:48,441 BAD EPOCHS (no improvement): 0\n",
      "saving best model\n",
      "2021-02-08 13:25:50,603 ----------------------------------------------------------------------------------------------------\n",
      "2021-02-08 13:26:03,775 epoch 2 - iter 13/135 - loss 1.58181334 - samples/sec: 63.26 - lr: 0.100000\n",
      "2021-02-08 13:26:19,459 epoch 2 - iter 26/135 - loss 1.63466791 - samples/sec: 53.20 - lr: 0.100000\n",
      "2021-02-08 13:26:32,988 epoch 2 - iter 39/135 - loss 1.52599334 - samples/sec: 61.62 - lr: 0.100000\n",
      "2021-02-08 13:26:45,991 epoch 2 - iter 52/135 - loss 1.52764228 - samples/sec: 64.05 - lr: 0.100000\n",
      "2021-02-08 13:26:57,844 epoch 2 - iter 65/135 - loss 1.49204144 - samples/sec: 70.24 - lr: 0.100000\n",
      "2021-02-08 13:27:10,144 epoch 2 - iter 78/135 - loss 1.47115846 - samples/sec: 67.69 - lr: 0.100000\n",
      "2021-02-08 13:27:23,267 epoch 2 - iter 91/135 - loss 1.44770637 - samples/sec: 63.43 - lr: 0.100000\n",
      "2021-02-08 13:27:36,054 epoch 2 - iter 104/135 - loss 1.42802513 - samples/sec: 65.10 - lr: 0.100000\n",
      "2021-02-08 13:27:47,757 epoch 2 - iter 117/135 - loss 1.41076069 - samples/sec: 71.26 - lr: 0.100000\n",
      "2021-02-08 13:28:00,358 epoch 2 - iter 130/135 - loss 1.39132367 - samples/sec: 66.06 - lr: 0.100000\n",
      "2021-02-08 13:28:06,840 ----------------------------------------------------------------------------------------------------\n",
      "2021-02-08 13:28:06,849 EPOCH 2 done: loss 1.3783 - lr 0.1000000\n",
      "2021-02-08 13:28:12,729 DEV : loss 0.5982339978218079 - score 0.9263\n",
      "2021-02-08 13:28:12,775 BAD EPOCHS (no improvement): 0\n",
      "saving best model\n",
      "2021-02-08 13:28:14,600 ----------------------------------------------------------------------------------------------------\n",
      "2021-02-08 13:28:26,751 epoch 3 - iter 13/135 - loss 1.17346288 - samples/sec: 68.51 - lr: 0.100000\n",
      "2021-02-08 13:28:38,523 epoch 3 - iter 26/135 - loss 1.10786585 - samples/sec: 70.70 - lr: 0.100000\n",
      "2021-02-08 13:28:50,769 epoch 3 - iter 39/135 - loss 1.07461075 - samples/sec: 67.97 - lr: 0.100000\n",
      "2021-02-08 13:29:02,565 epoch 3 - iter 52/135 - loss 1.06563737 - samples/sec: 70.62 - lr: 0.100000\n",
      "2021-02-08 13:29:14,451 epoch 3 - iter 65/135 - loss 1.06734329 - samples/sec: 70.08 - lr: 0.100000\n",
      "2021-02-08 13:29:26,278 epoch 3 - iter 78/135 - loss 1.06031886 - samples/sec: 70.47 - lr: 0.100000\n",
      "2021-02-08 13:29:37,961 epoch 3 - iter 91/135 - loss 1.03920821 - samples/sec: 71.25 - lr: 0.100000\n",
      "2021-02-08 13:29:49,702 epoch 3 - iter 104/135 - loss 1.03947370 - samples/sec: 70.91 - lr: 0.100000\n",
      "2021-02-08 13:30:01,541 epoch 3 - iter 117/135 - loss 1.03423389 - samples/sec: 70.30 - lr: 0.100000\n",
      "2021-02-08 13:30:13,302 epoch 3 - iter 130/135 - loss 1.02217419 - samples/sec: 70.82 - lr: 0.100000\n",
      "2021-02-08 13:30:17,484 ----------------------------------------------------------------------------------------------------\n",
      "2021-02-08 13:30:17,490 EPOCH 3 done: loss 1.0176 - lr 0.1000000\n",
      "2021-02-08 13:30:23,109 DEV : loss 0.46091848611831665 - score 0.9432\n",
      "2021-02-08 13:30:23,176 BAD EPOCHS (no improvement): 0\n",
      "saving best model\n",
      "2021-02-08 13:30:24,945 ----------------------------------------------------------------------------------------------------\n",
      "2021-02-08 13:30:37,253 epoch 4 - iter 13/135 - loss 0.78090870 - samples/sec: 67.69 - lr: 0.100000\n",
      "2021-02-08 13:30:49,973 epoch 4 - iter 26/135 - loss 0.82655286 - samples/sec: 65.43 - lr: 0.100000\n",
      "2021-02-08 13:31:03,982 epoch 4 - iter 39/135 - loss 0.80891713 - samples/sec: 59.42 - lr: 0.100000\n",
      "2021-02-08 13:31:20,270 epoch 4 - iter 52/135 - loss 0.82704920 - samples/sec: 51.10 - lr: 0.100000\n",
      "2021-02-08 13:31:34,106 epoch 4 - iter 65/135 - loss 0.82136009 - samples/sec: 60.15 - lr: 0.100000\n",
      "2021-02-08 13:31:46,627 epoch 4 - iter 78/135 - loss 0.82727330 - samples/sec: 66.48 - lr: 0.100000\n",
      "2021-02-08 13:31:59,478 epoch 4 - iter 91/135 - loss 0.83535327 - samples/sec: 64.78 - lr: 0.100000\n",
      "2021-02-08 13:32:12,200 epoch 4 - iter 104/135 - loss 0.82179499 - samples/sec: 65.43 - lr: 0.100000\n",
      "2021-02-08 13:32:26,788 epoch 4 - iter 117/135 - loss 0.81252305 - samples/sec: 57.06 - lr: 0.100000\n",
      "2021-02-08 13:32:39,758 epoch 4 - iter 130/135 - loss 0.81486178 - samples/sec: 64.18 - lr: 0.100000\n",
      "2021-02-08 13:32:44,490 ----------------------------------------------------------------------------------------------------\n",
      "2021-02-08 13:32:44,493 EPOCH 4 done: loss 0.8150 - lr 0.1000000\n",
      "2021-02-08 13:32:50,813 DEV : loss 0.38777604699134827 - score 0.9457\n",
      "2021-02-08 13:32:50,860 BAD EPOCHS (no improvement): 0\n",
      "saving best model\n",
      "2021-02-08 13:32:53,020 ----------------------------------------------------------------------------------------------------\n",
      "2021-02-08 13:33:05,585 epoch 5 - iter 13/135 - loss 0.65872710 - samples/sec: 66.30 - lr: 0.100000\n"
     ]
    },
    {
     "name": "stdout",
     "output_type": "stream",
     "text": [
      "2021-02-08 13:33:19,325 epoch 5 - iter 26/135 - loss 0.69805469 - samples/sec: 60.57 - lr: 0.100000\n",
      "2021-02-08 13:33:37,372 epoch 5 - iter 39/135 - loss 0.68615035 - samples/sec: 46.15 - lr: 0.100000\n",
      "2021-02-08 13:34:12,129 epoch 5 - iter 52/135 - loss 0.70341076 - samples/sec: 23.96 - lr: 0.100000\n",
      "2021-02-08 13:34:42,610 epoch 5 - iter 65/135 - loss 0.68574158 - samples/sec: 27.34 - lr: 0.100000\n",
      "2021-02-08 13:34:56,255 epoch 5 - iter 78/135 - loss 0.69180555 - samples/sec: 61.03 - lr: 0.100000\n",
      "2021-02-08 13:35:09,662 epoch 5 - iter 91/135 - loss 0.68494606 - samples/sec: 62.13 - lr: 0.100000\n",
      "2021-02-08 13:35:22,536 epoch 5 - iter 104/135 - loss 0.68167256 - samples/sec: 64.97 - lr: 0.100000\n",
      "2021-02-08 13:35:35,069 epoch 5 - iter 117/135 - loss 0.68536689 - samples/sec: 66.47 - lr: 0.100000\n",
      "2021-02-08 13:35:48,428 epoch 5 - iter 130/135 - loss 0.68533395 - samples/sec: 62.32 - lr: 0.100000\n",
      "2021-02-08 13:35:53,078 ----------------------------------------------------------------------------------------------------\n",
      "2021-02-08 13:35:53,080 EPOCH 5 done: loss 0.6869 - lr 0.1000000\n",
      "2021-02-08 13:36:00,201 DEV : loss 0.3299853503704071 - score 0.9573\n",
      "2021-02-08 13:36:00,267 BAD EPOCHS (no improvement): 0\n",
      "saving best model\n",
      "2021-02-08 13:36:04,357 ----------------------------------------------------------------------------------------------------\n",
      "2021-02-08 13:36:04,360 Testing using best model ...\n",
      "2021-02-08 13:36:04,383 loading file flair_model/best-model.pt\n",
      "2021-02-08 13:37:22,419 0.9517\t0.9559\t0.9538\n",
      "2021-02-08 13:37:22,420 \n",
      "Results:\n",
      "- F1-score (micro) 0.9538\n",
      "- F1-score (macro) 0.9568\n",
      "\n",
      "By class:\n",
      "CUSTOMERNAME tp: 543 - fp: 32 - fn: 43 - precision: 0.9443 - recall: 0.9266 - f1-score: 0.9354\n",
      "DATE       tp: 232 - fp: 12 - fn: 8 - precision: 0.9508 - recall: 0.9667 - f1-score: 0.9587\n",
      "LOCATION   tp: 411 - fp: 18 - fn: 13 - precision: 0.9580 - recall: 0.9693 - f1-score: 0.9637\n",
      "PERSON     tp: 332 - fp: 15 - fn: 6 - precision: 0.9568 - recall: 0.9822 - f1-score: 0.9693\n",
      "2021-02-08 13:37:22,421 ----------------------------------------------------------------------------------------------------\n"
     ]
    },
    {
     "data": {
      "text/plain": [
       "{'test_score': 0.9538171536286522,\n",
       " 'dev_score_history': [0.8863013698630138,\n",
       "  0.9263370332996974,\n",
       "  0.9431932773109244,\n",
       "  0.9456740442655934,\n",
       "  0.9572534500168293],\n",
       " 'train_loss_history': [4.589550680584377,\n",
       "  1.3783126332141735,\n",
       "  1.0175623862831682,\n",
       "  0.8149992461557741,\n",
       "  0.6869200061868739],\n",
       " 'dev_loss_history': [1.193814754486084,\n",
       "  0.5982339978218079,\n",
       "  0.46091848611831665,\n",
       "  0.38777604699134827,\n",
       "  0.3299853503704071]}"
      ]
     },
     "execution_count": 4,
     "metadata": {},
     "output_type": "execute_result"
    }
   ],
   "source": [
    "# 1. get the corpus\n",
    "\n",
    "# define columns\n",
    "columns = {0: 'text', 1: 'ner'}\n",
    "\n",
    "# this is the folder in which train, test and dev files reside\n",
    "data_folder = '../data_raw'\n",
    "\n",
    "# init a corpus using column format, data folder and the names of the train, dev and test files\n",
    "corpus: Corpus = ColumnCorpus(data_folder, columns,\n",
    "                              train_file='data_iob_0911_train.txt')\n",
    "\n",
    "print(corpus)\n",
    "print(corpus.train[0].to_tagged_string('ner'))\n",
    "\n",
    "# 2. what tag do we want to predict?\n",
    "tag_type = 'ner'\n",
    "\n",
    "# 3. make the tag dictionary from the corpus\n",
    "tag_dictionary = corpus.make_tag_dictionary(tag_type=tag_type)\n",
    "print(tag_dictionary.idx2item)\n",
    "\n",
    "# 4. initialize embeddings\n",
    "embedding_types: List[TokenEmbeddings] = [\n",
    "\n",
    "#     WordEmbeddings('glove'),\n",
    "#     byte pair embeddings segment words into subsequences. \n",
    "#     This can dramatically reduce the model size vis-a-vis using normal word embeddings at nearly the same accuracy\n",
    "    BytePairEmbeddings('en'),\n",
    "    # comment in this line to use character embeddings\n",
    "    # CharacterEmbeddings(),\n",
    "\n",
    "#     # contextual string embeddings, forward\n",
    "#     PooledFlairEmbeddings('news-forward', pooling='min'),\n",
    "\n",
    "#     # contextual string embeddings, backward\n",
    "#     PooledFlairEmbeddings('news-backward', pooling='min'),\n",
    "    \n",
    "    # comment in these lines to use flair embeddings\n",
    "    #'news-X'\t      English\tTrained with 1 billion word corpus\n",
    "    #'news-X-fast'\tEnglish\tTrained with 1 billion word corpus, CPU-friendly\n",
    "    #'mix-X'\t      English\tTrained with mixed corpus (Web, Wikipedia, Subtitles)\n",
    "    FlairEmbeddings('news-forward')\n",
    "]\n",
    "\n",
    "embeddings: StackedEmbeddings = StackedEmbeddings(embeddings=embedding_types)\n",
    "\n",
    "# 5. initialize sequence tagger, not sure about use_crf\n",
    "tagger: SequenceTagger = SequenceTagger(hidden_size=256,\n",
    "                                        embeddings=embeddings,\n",
    "                                        tag_dictionary=tag_dictionary,\n",
    "                                        tag_type=tag_type,\n",
    "                                        use_crf=True)\n",
    "\n",
    "# 6. initialize trainer\n",
    "trainer: ModelTrainer = ModelTrainer(tagger, corpus)\n",
    "\n",
    "# 7. start training\n",
    "trainer.train('flair_model', # creates a folder called flair_model and store results inside\n",
    "#               learning_rate=0.01,\n",
    "              mini_batch_size=64,\n",
    "              max_epochs=5)"
   ]
  },
  {
   "cell_type": "code",
   "execution_count": 6,
   "metadata": {
    "ExecuteTime": {
     "end_time": "2021-02-08T05:52:57.808279Z",
     "start_time": "2021-02-08T05:52:57.805641Z"
    }
   },
   "outputs": [],
   "source": [
    "loc = 'flair_model'"
   ]
  },
  {
   "cell_type": "code",
   "execution_count": 7,
   "metadata": {
    "ExecuteTime": {
     "end_time": "2021-02-08T05:52:59.499408Z",
     "start_time": "2021-02-08T05:52:58.556722Z"
    },
    "colab": {},
    "colab_type": "code",
    "id": "JZ-cGyyHdYjg"
   },
   "outputs": [
    {
     "name": "stdout",
     "output_type": "stream",
     "text": [
      "2021-02-08 13:52:58,566 ----------------------------------------------------------------------------------------------------\n",
      "2021-02-08 13:52:58,567 WARNING: No LOSS found for test split in this data.\n",
      "2021-02-08 13:52:58,568 Are you sure you want to plot LOSS and not another value?\n",
      "2021-02-08 13:52:58,568 ----------------------------------------------------------------------------------------------------\n",
      "2021-02-08 13:52:58,590 ----------------------------------------------------------------------------------------------------\n",
      "2021-02-08 13:52:58,591 WARNING: No F1 found for test split in this data.\n",
      "2021-02-08 13:52:58,592 Are you sure you want to plot F1 and not another value?\n",
      "2021-02-08 13:52:58,592 ----------------------------------------------------------------------------------------------------\n",
      "Loss and F1 plots are saved in flair_model/training.png\n"
     ]
    },
    {
     "data": {
      "image/png": "[encoded data removed]",
      "text/plain": [
       "<Figure size 1080x720 with 2 Axes>"
      ]
     },
     "metadata": {
      "needs_background": "light"
     },
     "output_type": "display_data"
    }
   ],
   "source": [
    "# 8. plot training curves (optional)\n",
    "plotter = Plotter()\n",
    "plotter.plot_training_curves(os.path.join(loc, 'loss.tsv'))"
   ]
  },
  {
   "cell_type": "markdown",
   "metadata": {
    "colab_type": "text",
    "id": "1ybDThnYRX12"
   },
   "source": [
    "# Load trained model"
   ]
  },
  {
   "cell_type": "code",
   "execution_count": 8,
   "metadata": {
    "ExecuteTime": {
     "end_time": "2021-02-08T05:53:04.819125Z",
     "start_time": "2021-02-08T05:53:03.648166Z"
    },
    "colab": {
     "base_uri": "https://localhost:8080/",
     "height": 68
    },
    "colab_type": "code",
    "id": "TDPHm227ofbz",
    "outputId": "9c2c7296-5c31-422d-93b1-57181e6960e8"
   },
   "outputs": [
    {
     "name": "stdout",
     "output_type": "stream",
     "text": [
      "2021-02-08 13:53:03,650 loading file flair_model/best-model.pt\n"
     ]
    }
   ],
   "source": [
    "from flair.data import Sentence\n",
    "from flair.models import SequenceTagger\n",
    "\n",
    "# load the model you trained\n",
    "model = SequenceTagger.load(os.path.join(loc, 'best-model.pt'))"
   ]
  },
  {
   "cell_type": "markdown",
   "metadata": {
    "colab_type": "text",
    "id": "oCrISGXUndlg"
   },
   "source": [
    "# Prediction"
   ]
  },
  {
   "cell_type": "code",
   "execution_count": 9,
   "metadata": {
    "ExecuteTime": {
     "end_time": "2021-02-08T05:53:06.018645Z",
     "start_time": "2021-02-08T05:53:05.857406Z"
    },
    "colab": {
     "base_uri": "https://localhost:8080/",
     "height": 68
    },
    "colab_type": "code",
    "id": "TjF8IesbAd6X",
    "outputId": "cdbea75a-fb8e-4324-dd04-aadb7441f9fb"
   },
   "outputs": [
    {
     "name": "stdout",
     "output_type": "stream",
     "text": [
      "show me my deals with BMW <B-CUSTOMERNAME> in Netherlands <B-LOCATION> .\n"
     ]
    },
    {
     "data": {
      "text/plain": [
       "{'text': 'show me my deals with BMW in Netherlands.',\n",
       " 'labels': [],\n",
       " 'entities': [{'text': 'BMW',\n",
       "   'start_pos': 22,\n",
       "   'end_pos': 25,\n",
       "   'labels': [CUSTOMERNAME (0.9995)]},\n",
       "  {'text': 'Netherlands',\n",
       "   'start_pos': 29,\n",
       "   'end_pos': 40,\n",
       "   'labels': [LOCATION (0.9486)]}]}"
      ]
     },
     "execution_count": 9,
     "metadata": {},
     "output_type": "execute_result"
    }
   ],
   "source": [
    "# sentence = Sentence(\"Get my deals with September & Co. between Jan. 4th and Jan. 11th.\", use_tokenizer=True)\n",
    "sentence = Sentence(\"show me my deals with BMW in Netherlands.\", use_tokenizer=True)\n",
    "model.predict(sentence)\n",
    "print(sentence.to_tagged_string())\n",
    "sentence.to_dict(tag_type='ner')"
   ]
  },
  {
   "cell_type": "code",
   "execution_count": 10,
   "metadata": {
    "ExecuteTime": {
     "end_time": "2021-02-08T05:53:06.776794Z",
     "start_time": "2021-02-08T05:53:06.771758Z"
    },
    "colab": {
     "base_uri": "https://localhost:8080/",
     "height": 170
    },
    "colab_type": "code",
    "id": "cnNKPYW680KL",
    "outputId": "5a8bd853-3e1d-4005-a1f3-531063da3c63"
   },
   "outputs": [
    {
     "name": "stdout",
     "output_type": "stream",
     "text": [
      "O (0.9997)\n",
      "O (0.9993)\n",
      "O (0.9988)\n",
      "O (0.9991)\n",
      "O (0.9993)\n",
      "B-CUSTOMERNAME (0.9995)\n",
      "O (0.9902)\n",
      "B-LOCATION (0.9486)\n",
      "O (0.9923)\n"
     ]
    }
   ],
   "source": [
    "for i in range(len(sentence)):\n",
    "    print(sentence[i].get_tag('ner'))"
   ]
  },
  {
   "cell_type": "code",
   "execution_count": 11,
   "metadata": {
    "ExecuteTime": {
     "end_time": "2021-02-08T05:53:07.808399Z",
     "start_time": "2021-02-08T05:53:07.522448Z"
    },
    "colab": {
     "base_uri": "https://localhost:8080/",
     "height": 170
    },
    "colab_type": "code",
    "id": "V-alrPAS81D6",
    "outputId": "00055665-5f3f-433e-989f-8353fb6f8d14"
   },
   "outputs": [
    {
     "name": "stdout",
     "output_type": "stream",
     "text": [
      "CPU times: user 1.06 s, sys: 22.8 ms, total: 1.08 s\n",
      "Wall time: 277 ms\n",
      "open my account ID 6293 <B-DATE>\n",
      "open my account ID 62093\n",
      "open my account id 876293\n",
      "open my account 876293 <B-DATE>\n",
      "Find customer with account ID 60293\n",
      "Find customer with account id 60293\n",
      "Find customer with account ID 6880293\n"
     ]
    }
   ],
   "source": [
    "sentences_id = ['open my account ID 6293',\n",
    "                \"open my account ID 62093\",\n",
    "                \"open my account id 876293\",\n",
    "                \"open my account 876293\",\n",
    "                'Find customer with account ID 60293',\n",
    "                \"Find customer with account id 60293\",\n",
    "                \"Find customer with account ID 6880293\"]\n",
    "\n",
    "sentences_id = [Sentence(sent, use_tokenizer=True) for sent in sentences_id]\n",
    "%time model.predict(sentences_id)\n",
    "for result in sentences_id:\n",
    "    print(result.to_tagged_string())"
   ]
  },
  {
   "cell_type": "markdown",
   "metadata": {},
   "source": [
    "## batch prediction"
   ]
  },
  {
   "cell_type": "code",
   "execution_count": 12,
   "metadata": {
    "ExecuteTime": {
     "end_time": "2021-02-08T05:53:12.547600Z",
     "start_time": "2021-02-08T05:53:09.306914Z"
    },
    "colab": {
     "base_uri": "https://localhost:8080/",
     "height": 1000
    },
    "colab_type": "code",
    "id": "ebL89XhPngAj",
    "outputId": "14f6e172-2887-4cf8-cf9e-21965367267e"
   },
   "outputs": [
    {
     "name": "stdout",
     "output_type": "stream",
     "text": [
      "CPU times: user 12.1 s, sys: 477 ms, total: 12.6 s\n",
      "Wall time: 3.2 s\n"
     ]
    }
   ],
   "source": [
    "sentences = ['How many opportunities does Torsten Albert have in the next quarter for the basf account which are in phase d and upside',\n",
    "'deals over 1 million euro',\n",
    "'tell me if you can find any deals for me',\n",
    "'find only committed deals for on premise products',\n",
    "'tell my deals with status New and won',\n",
    "'show only deals over 1 Million Euro',\n",
    "'please get me volkswagen details',\n",
    "'show deals with origin active renewal',\n",
    "'do you have any idea about deals from account 15998',\n",
    "'What accounts do I have in germany',\n",
    "'germany account details',\n",
    "\"can i see Martin Springer's all activities\",\n",
    "'find deals having revenue range greater than 100k euros',\n",
    "\"please tell me martin springer's probable deals\",\n",
    "\"can you tell me martin springer's probable deals\",\n",
    "'are there any opportunities worth more than a million in the next quarter',\n",
    "'show deals with status discontinued and status booked',\n",
    "'display deals with status booked',\n",
    "'get my deals for phase a and phase b',\n",
    "'do I have accounts in Belgium',\n",
    "'find any daimler account in Belgium',\n",
    "'open the list of all accounts at Netherland',\n",
    "'in this year how many activities do i have',\n",
    "'do i have any contacts available at volkswagen',\n",
    "'i want to see the details of Caterpillar account',\n",
    "'tell me if i can see my deals for next year',\n",
    "'how many activities can you list me for this week',\n",
    "'i want to know about all the contacts i have at volkswagen ag',\n",
    "'i would like to see the activities Martin Springer owns',\n",
    "'view contacts in HR department at Nike Inc',\n",
    "'what accounts exist in India',\n",
    "'do we have account axel springer in germany',\n",
    "'which accounts do we have in serbia',\n",
    "'I need somebody from HR department at SAP SE',\n",
    "'i need a list of AO for volkswagen ag',\n",
    "'would you please get me all my committed deals for the next quarter',\n",
    "\"list martin springer's next quarter opportunities that are not large\",\n",
    "'show only activities for my nike inc',\n",
    "'display my previous month activities',\n",
    "'display AEs at Transalta Corporation',\n",
    "'filter deal 300061767',\n",
    "'Filter the deals for Nike Inc',\n",
    "'filter last month activities',\n",
    "'filter Krupp Hoesch',\n",
    "'only belgium account',\n",
    "'Find contact Amandeep Hundal',\n",
    "\"Show me Martin Springer's role on Volkswagen\",\n",
    "'show my deals',\n",
    "'get my deals for Volkswagen',\n",
    "'get deals for the previous quarter',\n",
    "'get deals for CQ+1',\n",
    "'open my deal with the id 300054334',\n",
    "'find probable cloud deals over 1 million in the next quarter',\n",
    "'find my committed cloud deals',\n",
    "'show all my service deals',\n",
    "'find only committed deals',\n",
    "'display select deals',\n",
    "\"find vishal srivastava's deals\",\n",
    "'what are my in process deals',\n",
    "'show deals I own',\n",
    "'What deals do I own',\n",
    "'do I have deals that are less than 250 K',\n",
    "'How many deals do I have that are less than 250 K',\n",
    "'get my B negotiate deals',\n",
    "'get deals for account 159978',\n",
    "'find this year deals',\n",
    "'How many large deals do I have',\n",
    "'How many deals do I have that are big',\n",
    "'show me my large deals',\n",
    "\"find last year's opportunities\",\n",
    "'find last year deals',\n",
    "'my deals over 900k',\n",
    "'find only deals with a revenue  over 100k',\n",
    "'find gokul ramdass next quarter opportunities',\n",
    "'list my probable opportunities in the next year',\n",
    "'list my opportunities that are probable',\n",
    "'please present my current quarter deals',\n",
    "'I would like to view my opportunities for the current quarter',\n",
    "\"list anuragini's last year opportunities that are won\",\n",
    "\"list martin springer's next quarter opportunities that are large\",\n",
    "'show only those probable deals less than 500k',\n",
    "'How many deals do I have that are over 250 thousand',\n",
    "'find deals with a value more than 100k',\n",
    "'How many deals did I have in the last year less than 1 Million',\n",
    "'How many deals do I have less than 1 Million',\n",
    "\"find phase b deals which are probable and are ankit chaurasia's deals\",\n",
    "\"find martin springer's phase d and status new and phase a deals\",\n",
    "\"find martin springer's phase d deals\",\n",
    "'display deals with status discontinued and status booked',\n",
    "'show only probable and committed deals',\n",
    "'which deals are excluded from pipeline',\n",
    "'show excluded from pipeline and probable deals',\n",
    "'How many opportunities over 100 k does Manish Gupta have in the first quarter for caterpillar which are in phase b and probable',\n",
    "'look for my account caterpillar',\n",
    "'display caterpillar account',\n",
    "'open my accounts in Belgium',\n",
    "'display account 167545',\n",
    "'get my Nike Inc account in Denmark',\n",
    "'what are my accounts in India',\n",
    "'find coca cola account based in Canada',\n",
    "'account id 30875',\n",
    "'get 3m canada in germany',\n",
    "'open Transalta Corporation',\n",
    "'my accounts',\n",
    "'open Caterpillar',\n",
    "'my accounts in Netherlands ',\n",
    "'find the account with the id 159978',\n",
    "'show account 159978',\n",
    "'list my accounts',\n",
    "'find martin winterkorn at volkswagen ag',\n",
    "'Who is Michael Simpson at Volkswagen',\n",
    "'which are my contacts in the human resources department at nestle in Switzerland',\n",
    "'get my contacts at nestle',\n",
    "'what is the role of Dawn de Lima at Transalta corporation',\n",
    "'whom do i know at account 30875',\n",
    "'find my contacts in HR department at PepsiCo Inc',\n",
    "'who is in the marketing department at Daimler Ag',\n",
    "\"do you know Anuragini's function at Daimler Ag\",\n",
    "\"do you know Dieter Zetsche's function at Daimler Ag\",\n",
    "'Who is the Chief Technology Officer of Caterpillar',\n",
    "\"show ulrich springer's job for daimler\",\n",
    "'Who is the CSO of Robert Bosch',\n",
    "'find my contacts at 167545 account',\n",
    "'what are my contacts at 167545 account',\n",
    "\"tell Vishal Srivastava's department at Siemens\",\n",
    "'get an IT department contact at fiat in italy',\n",
    "'get a sales department contact at ferrari in italy',\n",
    "\"what is carlos ghosn's role at Renault\",\n",
    "\"tell Mark Zuckerberg's function at Facebook\",\n",
    "'tell me about Joe Kaeser at Siemens AG',\n",
    "'in which department at Siemens is Joe Kaeser',\n",
    "'Who do we know at volkswagen',\n",
    "'Who do I know at Siemens AG in France',\n",
    "'who do I know at siemens in Singapore',\n",
    "'Find contacts in Canada under account 10557260',\n",
    "'Find contacts in the marketing department for account 10557260  in Guadeloupe',\n",
    "'Who is the chief digital officer of 32667 account',\n",
    "'Show my contacts in the Marketing department of lmvh',\n",
    "'who is Martin Springer',\n",
    "'show me value engineer at Nike',\n",
    "'get the Account Owner of Volkswagen',\n",
    "\"I'd like to see the Account Owner of Volkswagen\",\n",
    "'who is executive sponsor for pepsiCo inc',\n",
    "'please find the Global Account Director for my account Bayerische Motorenwerke AG',\n",
    "'who is Global Account Director at bmw ag',\n",
    "'find Industry Account Exec for account 167545',\n",
    "'give me the Industry Account Executive for the Apple Computers',\n",
    "'give me the Account Owner for Volkswagen',\n",
    "'Find Amandeep Hundal',\n",
    "'who is a Value Engineer for the Springer AG',\n",
    "'who is Value Engineer at Nike Inc',\n",
    "\"what is Ankit Chaurasia's role on account 30875\",\n",
    "'is there any account owner for PepsiCo Inc',\n",
    "'Who is Anuragini',\n",
    "'display all activities for BASF AG in this year',\n",
    "\"get volkswagen account's activities\",\n",
    "\"Find Anuragini's activities\",\n",
    "'what are my activities for tomorrow',\n",
    "'display my activities this month',\n",
    "'which of my activities are in completed or open status',\n",
    "'find my activities that are open and in process this week',\n",
    "\"find Martin springer's activities\",\n",
    "'show me my Nike Inc activities this week',\n",
    "'list contact Ankit chaurasia activities this month',\n",
    "'what are activities for Gokulraj Ramdass in the next month',\n",
    "'find all the activities of Martin Springer in the last month',\n",
    "'what are my Caterpillar activities last year',\n",
    "'display my activities in in process and completed status',\n",
    "'what are my activities',\n",
    "'previous month activities',\n",
    "\"list Ramdass Gokul's activities\",\n",
    "'filter germany account',\n",
    "'limit it to country germany',\n",
    "'find customer with account id 30875',\n",
    "'get my Forest Products, Furniture & Textiles account',\n",
    "'get my Engineering, Construction and Operation in bmw account']\n",
    "\n",
    "sentences_all = [Sentence(sent, use_tokenizer=True) for sent in sentences]\n",
    "\n",
    "\n",
    "%time model.predict(sentences_all, mini_batch_size=32)"
   ]
  },
  {
   "cell_type": "markdown",
   "metadata": {
    "colab_type": "text",
    "id": "KWECKiIFRDZR"
   },
   "source": [
    "# Evaluation"
   ]
  },
  {
   "cell_type": "markdown",
   "metadata": {
    "ExecuteTime": {
     "end_time": "2019-09-13T07:16:59.129045Z",
     "start_time": "2019-09-13T07:16:59.127044Z"
    },
    "colab_type": "text",
    "id": "O1cmF7k680Ke"
   },
   "source": [
    "## Evaluate on all test dataset"
   ]
  },
  {
   "cell_type": "code",
   "execution_count": 14,
   "metadata": {
    "ExecuteTime": {
     "end_time": "2021-02-08T05:53:26.960202Z",
     "start_time": "2021-02-08T05:53:26.932632Z"
    }
   },
   "outputs": [],
   "source": [
    "# pred, true in the test.tsv\n",
    "\n",
    "test_sentences = read_file(os.path.join(loc, 'test.tsv'), True)\n",
    "\n",
    "pred_label = [[w[2] for w in s] for s in test_sentences]\n",
    "\n",
    "true_label = [[w[1] for w in s] for s in test_sentences]\n",
    "true_label_2 = [[l.replace(\"B-in\", \"O\") for l in label] for label in true_label] \n",
    "pred_label_2 = [[l.replace(\"B-in\", \"O\") for l in label] for label in pred_label] "
   ]
  },
  {
   "cell_type": "code",
   "execution_count": 15,
   "metadata": {
    "ExecuteTime": {
     "end_time": "2021-02-08T05:53:27.825869Z",
     "start_time": "2021-02-08T05:53:27.791729Z"
    },
    "colab": {},
    "colab_type": "code",
    "id": "GJa6FEnY80K6",
    "outputId": "78f396a6-08a6-4258-d7df-01e0b6b49311"
   },
   "outputs": [
    {
     "name": "stdout",
     "output_type": "stream",
     "text": [
      "              precision    recall  f1-score   support\n",
      "\n",
      "      PERSON       0.96      0.98      0.97       338\n",
      "        DATE       0.95      0.97      0.96       240\n",
      "    LOCATION       0.96      0.97      0.96       424\n",
      "CUSTOMERNAME       0.94      0.93      0.94       586\n",
      "\n",
      " avg / total       0.95      0.96      0.95      1588\n",
      "\n"
     ]
    }
   ],
   "source": [
    "\n",
    "print(classification_report_entity(true_label_2, pred_label_2))"
   ]
  },
  {
   "cell_type": "code",
   "execution_count": null,
   "metadata": {},
   "outputs": [],
   "source": []
  }
 ],
 "metadata": {
  "accelerator": "GPU",
  "colab": {
   "collapsed_sections": [],
   "name": "Copy of 0911_flair_ner_4_entity_add_filter_pattern_all_test.ipynb",
   "provenance": [],
   "toc_visible": true
  },
  "kernelspec": {
   "display_name": "Python 3",
   "language": "python",
   "name": "python3"
  },
  "language_info": {
   "codemirror_mode": {
    "name": "ipython",
    "version": 3
   },
   "file_extension": ".py",
   "mimetype": "text/x-python",
   "name": "python",
   "nbconvert_exporter": "python",
   "pygments_lexer": "ipython3",
   "version": "3.6.10"
  },
  "toc": {
   "base_numbering": 1,
   "nav_menu": {},
   "number_sections": true,
   "sideBar": true,
   "skip_h1_title": false,
   "title_cell": "Table of Contents",
   "title_sidebar": "Contents",
   "toc_cell": false,
   "toc_position": {
    "height": "calc(100% - 180px)",
    "left": "10px",
    "top": "150px",
    "width": "202px"
   },
   "toc_section_display": true,
   "toc_window_display": true
  }
 },
 "nbformat": 4,
 "nbformat_minor": 1
}
