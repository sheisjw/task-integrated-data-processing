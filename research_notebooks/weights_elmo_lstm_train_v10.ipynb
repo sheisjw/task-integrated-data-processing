{
 "cells": [
  {
   "cell_type": "markdown",
   "metadata": {
    "colab_type": "text",
    "id": "QfifDG8BOyLE"
   },
   "source": [
    "data_iob_v10.txt uses custom_tok2"
   ]
  },
  {
   "cell_type": "code",
   "execution_count": 1,
   "metadata": {
    "ExecuteTime": {
     "end_time": "2021-02-08T05:13:38.585086Z",
     "start_time": "2021-02-08T05:13:38.581675Z"
    },
    "colab": {
     "base_uri": "https://localhost:8080/",
     "height": 972
    },
    "colab_type": "code",
    "id": "5U7JyFviUogi",
    "outputId": "280621bc-ca57-4201-a238-1bbc5088741f"
   },
   "outputs": [],
   "source": [
    "# !pip install git+https://github.com/keras-team/keras.git -U\n",
    "# !pip install seqeval\n",
    "# !pip install \"tensorflow==1.15.5\"\n",
    "# !pip install tensorflow-hub"
   ]
  },
  {
   "cell_type": "code",
   "execution_count": 2,
   "metadata": {
    "ExecuteTime": {
     "end_time": "2021-02-08T05:13:43.470417Z",
     "start_time": "2021-02-08T05:13:38.588755Z"
    },
    "colab": {
     "base_uri": "https://localhost:8080/",
     "height": 68
    },
    "colab_type": "code",
    "id": "Qo01eQRXR9Y9",
    "outputId": "fd13ed7b-6565-4813-c892-65bb79a5c9c9"
   },
   "outputs": [
    {
     "name": "stderr",
     "output_type": "stream",
     "text": [
      "Using TensorFlow backend.\n"
     ]
    }
   ],
   "source": [
    "import os\n",
    "import sys\n",
    "import numpy as np\n",
    "from keras.models import Model, Input\n",
    "from keras.preprocessing.sequence import pad_sequences\n",
    "from keras.utils import to_categorical\n",
    "from keras.layers import TimeDistributed, Dense, Embedding, Input, Dropout, LSTM, Bidirectional, Lambda\n",
    "from keras.layers.merge import add\n",
    "import tensorflow as tf\n",
    "import tensorflow_hub as hub\n",
    "# from sklearn.metrics import recall_score, precision_score\n",
    "from seqeval.metrics import classification_report as classification_report_entity\n",
    "from seqeval.metrics import precision_score, recall_score, f1_score\n",
    "from keras.callbacks import ModelCheckpoint\n",
    "from keras.utils import plot_model\n",
    "import time\n",
    "import pandas as pd\n",
    "import matplotlib.pyplot as plt\n",
    "from sklearn.model_selection import train_test_split"
   ]
  },
  {
   "cell_type": "code",
   "execution_count": 3,
   "metadata": {
    "ExecuteTime": {
     "end_time": "2021-02-08T05:13:43.483931Z",
     "start_time": "2021-02-08T05:13:43.475147Z"
    }
   },
   "outputs": [],
   "source": [
    "sys.path.append('../shared_functions')\n",
    "from preprocess import read_file"
   ]
  },
  {
   "cell_type": "markdown",
   "metadata": {
    "colab_type": "text",
    "id": "NBDTXEdCWCCD"
   },
   "source": [
    "# Prepare data"
   ]
  },
  {
   "cell_type": "code",
   "execution_count": 4,
   "metadata": {
    "ExecuteTime": {
     "end_time": "2021-02-08T05:13:43.491825Z",
     "start_time": "2021-02-08T05:13:43.487079Z"
    },
    "colab": {},
    "colab_type": "code",
    "id": "pKvI3DR5SGCt"
   },
   "outputs": [],
   "source": [
    "max_len = 42\n",
    "batch_size = 32\n",
    "EPOCHS = 5"
   ]
  },
  {
   "cell_type": "code",
   "execution_count": 5,
   "metadata": {
    "ExecuteTime": {
     "end_time": "2021-02-08T05:13:43.503438Z",
     "start_time": "2021-02-08T05:13:43.495019Z"
    },
    "colab": {},
    "colab_type": "code",
    "id": "Mr-3CvUFSMRn"
   },
   "outputs": [],
   "source": [
    "loc = '../data_raw'"
   ]
  },
  {
   "cell_type": "code",
   "execution_count": 6,
   "metadata": {
    "ExecuteTime": {
     "end_time": "2021-02-08T05:13:43.889287Z",
     "start_time": "2021-02-08T05:13:43.510600Z"
    },
    "colab": {
     "base_uri": "https://localhost:8080/",
     "height": 51
    },
    "colab_type": "code",
    "id": "xxt4wmEGSOzT",
    "outputId": "ed910967-e388-4451-88c6-03e083345b58"
   },
   "outputs": [
    {
     "name": "stdout",
     "output_type": "stream",
     "text": [
      "number of unique labels:  9\n",
      "total sentences:  10654\n"
     ]
    }
   ],
   "source": [
    "sentences = read_file(os.path.join(loc, 'data_iob_0911_train.txt'))\n",
    "# label2idx = {}\n",
    "# label_set = set()\n",
    "# word_set = {}\n",
    "\n",
    "# unique words and labels in data\n",
    "# for sentence in sentences:\n",
    "#     for token, label in sentence:\n",
    "#         label_set.add(label)\n",
    "#         word_set[token] = True\n",
    "# word_set = list(word_set)\n",
    "# n_words = len(word_set)\n",
    "# print(\"number of unique words: \", n_words)\n",
    "\n",
    "idx2label = {0: 'I-LOCATION',\n",
    "             1: 'I-CUSTOMERNAME',\n",
    "             2: 'B-LOCATION',\n",
    "             3: 'B-CUSTOMERNAME',\n",
    "             4: 'B-PERSON',\n",
    "             5: 'I-PERSON',\n",
    "             6: 'B-DATE',\n",
    "             7: 'I-DATE',\n",
    "             8: 'O'}\n",
    "\n",
    "n_labels = len(idx2label)\n",
    "print(\"number of unique labels: \", n_labels)\n",
    "\n",
    "# mapping for labels\n",
    "# for label in label_set:\n",
    "#     label2idx[label] = len(label2idx)\n",
    "# print(label2idx)\n",
    "\n",
    "label2idx = {v: k for k, v in idx2label.items()}\n",
    "# word2idx = {w: i + 1 for i, w in enumerate(word_set)}\n",
    "\n",
    "print(\"total sentences: \", len(sentences))"
   ]
  },
  {
   "cell_type": "code",
   "execution_count": 7,
   "metadata": {
    "ExecuteTime": {
     "end_time": "2021-02-08T05:13:44.129267Z",
     "start_time": "2021-02-08T05:13:43.893299Z"
    },
    "colab": {
     "base_uri": "https://localhost:8080/",
     "height": 731
    },
    "colab_type": "code",
    "id": "ykVbvWorSpab",
    "outputId": "c213d147-3a72-42ca-c7a3-a9062f77085a"
   },
   "outputs": [
    {
     "data": {
      "text/plain": [
       "['limit',\n",
       " 'to',\n",
       " 'topvar',\n",
       " \"'\",\n",
       " 's',\n",
       " 'activities',\n",
       " '__PAD__',\n",
       " '__PAD__',\n",
       " '__PAD__',\n",
       " '__PAD__',\n",
       " '__PAD__',\n",
       " '__PAD__',\n",
       " '__PAD__',\n",
       " '__PAD__',\n",
       " '__PAD__',\n",
       " '__PAD__',\n",
       " '__PAD__',\n",
       " '__PAD__',\n",
       " '__PAD__',\n",
       " '__PAD__',\n",
       " '__PAD__',\n",
       " '__PAD__',\n",
       " '__PAD__',\n",
       " '__PAD__',\n",
       " '__PAD__',\n",
       " '__PAD__',\n",
       " '__PAD__',\n",
       " '__PAD__',\n",
       " '__PAD__',\n",
       " '__PAD__',\n",
       " '__PAD__',\n",
       " '__PAD__',\n",
       " '__PAD__',\n",
       " '__PAD__',\n",
       " '__PAD__',\n",
       " '__PAD__',\n",
       " '__PAD__',\n",
       " '__PAD__',\n",
       " '__PAD__',\n",
       " '__PAD__',\n",
       " '__PAD__',\n",
       " '__PAD__']"
      ]
     },
     "execution_count": 7,
     "metadata": {},
     "output_type": "execute_result"
    }
   ],
   "source": [
    "X_ori = [[w[0] for w in s] for s in sentences]\n",
    "\n",
    "X = []\n",
    "for seq in X_ori:\n",
    "    new_seq = []\n",
    "    for i in range(max_len):\n",
    "        try:\n",
    "            new_seq.append(seq[i])\n",
    "        except:\n",
    "            new_seq.append(\"__PAD__\")\n",
    "    X.append(new_seq)\n",
    "X[0]"
   ]
  },
  {
   "cell_type": "code",
   "execution_count": 8,
   "metadata": {
    "ExecuteTime": {
     "end_time": "2021-02-08T05:13:44.246263Z",
     "start_time": "2021-02-08T05:13:44.131771Z"
    },
    "colab": {
     "base_uri": "https://localhost:8080/",
     "height": 68
    },
    "colab_type": "code",
    "id": "5fKuf-W7SvdI",
    "outputId": "c1ad768c-ad73-4379-b1bc-8278ff4b1cd2"
   },
   "outputs": [
    {
     "data": {
      "text/plain": [
       "array([8, 8, 3, 8, 8, 8, 8, 8, 8, 8, 8, 8, 8, 8, 8, 8, 8, 8, 8, 8, 8, 8,\n",
       "       8, 8, 8, 8, 8, 8, 8, 8, 8, 8, 8, 8, 8, 8, 8, 8, 8, 8, 8, 8],\n",
       "      dtype=int32)"
      ]
     },
     "execution_count": 8,
     "metadata": {},
     "output_type": "execute_result"
    }
   ],
   "source": [
    "y = [[label2idx[w[1]] for w in s] for s in sentences]\n",
    "\n",
    "y = pad_sequences(maxlen=max_len, sequences=y, padding=\"post\", value=label2idx[\"O\"])\n",
    "y[0]"
   ]
  },
  {
   "cell_type": "code",
   "execution_count": 9,
   "metadata": {
    "ExecuteTime": {
     "end_time": "2021-02-08T05:13:44.276071Z",
     "start_time": "2021-02-08T05:13:44.249029Z"
    },
    "colab": {
     "base_uri": "https://localhost:8080/",
     "height": 34
    },
    "colab_type": "code",
    "id": "Nz5it-vPUKCd",
    "outputId": "dcd1453c-7c51-40d9-8ef5-447ba4111ca6"
   },
   "outputs": [
    {
     "name": "stdout",
     "output_type": "stream",
     "text": [
      "training sentences:  7648 validation sentences:  832\n"
     ]
    }
   ],
   "source": [
    "X_tra, X_te, y_tra, y_te = train_test_split(X, y, test_size=0.2, random_state=2019)\n",
    "\n",
    "X_tr, X_val, y_tr, y_val = train_test_split(X_tra, y_tra, test_size=0.1, random_state=2019)\n",
    "X_tr = X_tr[0:int(np.floor(len(X_tr)/batch_size)*batch_size)]\n",
    "X_val = X_val[0:int(np.floor(len(X_val)/batch_size)*batch_size)]\n",
    "y_tr = y_tr[0:int(np.floor(len(y_tr)/batch_size)*batch_size)]\n",
    "y_val = y_val[0:int(np.floor(len(y_val)/batch_size)*batch_size)]\n",
    "print(\"training sentences: \", len(X_tr), \"validation sentences: \", len(X_val))\n",
    "y_tr = y_tr.reshape(y_tr.shape[0], y_tr.shape[1], 1)\n",
    "y_val = y_val.reshape(y_val.shape[0], y_val.shape[1], 1)"
   ]
  },
  {
   "cell_type": "markdown",
   "metadata": {
    "colab_type": "text",
    "id": "gAH9miF8V9VX"
   },
   "source": [
    "# Build model"
   ]
  },
  {
   "cell_type": "code",
   "execution_count": 10,
   "metadata": {
    "ExecuteTime": {
     "end_time": "2021-02-08T05:13:45.449902Z",
     "start_time": "2021-02-08T05:13:44.280493Z"
    },
    "colab": {
     "base_uri": "https://localhost:8080/",
     "height": 139
    },
    "colab_type": "code",
    "id": "ilZ987X5VVRz",
    "outputId": "6c68ebe6-c430-4e8a-ebf0-38613dfa5fa2"
   },
   "outputs": [],
   "source": [
    "sess = tf.compat.v1.Session()\n",
    "# K.set_session(sess)\n",
    "\n",
    "elmo_model = hub.Module(\"https://tfhub.dev/google/elmo/2\", trainable=True)\n",
    "sess.run(tf.global_variables_initializer())\n",
    "sess.run(tf.tables_initializer())"
   ]
  },
  {
   "cell_type": "code",
   "execution_count": 11,
   "metadata": {
    "ExecuteTime": {
     "end_time": "2021-02-08T05:13:45.459256Z",
     "start_time": "2021-02-08T05:13:45.452670Z"
    },
    "colab": {},
    "colab_type": "code",
    "id": "wwDxG_CiWAP6"
   },
   "outputs": [],
   "source": [
    "def ElmoEmbedding(x):\n",
    "    return elmo_model(inputs={\"tokens\": tf.squeeze(tf.cast(x, tf.string)),\n",
    "                              \"sequence_len\": tf.constant(batch_size * [max_len])\n",
    "                              },\n",
    "                      signature=\"tokens\",\n",
    "                      as_dict=True)[\"elmo\"]"
   ]
  },
  {
   "cell_type": "code",
   "execution_count": 12,
   "metadata": {
    "ExecuteTime": {
     "end_time": "2021-02-08T05:13:45.476116Z",
     "start_time": "2021-02-08T05:13:45.465448Z"
    },
    "colab": {},
    "colab_type": "code",
    "id": "jzP5yQI-WGL8"
   },
   "outputs": [],
   "source": [
    "# Function to build model\n",
    "def build_model():\n",
    "    input_text = Input(shape=(max_len,), dtype=\"string\")\n",
    "    embedding = Lambda(ElmoEmbedding, output_shape=(None, 1024))(input_text)\n",
    "    x = Bidirectional(LSTM(units=512, return_sequences=True,\n",
    "                           recurrent_dropout=0.2, dropout=0.2))(embedding)\n",
    "    x_rnn = Bidirectional(LSTM(units=512, return_sequences=True,\n",
    "                               recurrent_dropout=0.2, dropout=0.2))(x)\n",
    "    x = add([x, x_rnn])  # residual connection to the first biLSTMSS\n",
    "    out = TimeDistributed(Dense(n_labels, activation=\"softmax\"))(x)\n",
    "\n",
    "    model = Model(input_text, out)\n",
    "    model.compile(optimizer=\"adam\", loss=\"sparse_categorical_crossentropy\")\n",
    "    model.summary()\n",
    "\n",
    "    return model"
   ]
  },
  {
   "cell_type": "code",
   "execution_count": 13,
   "metadata": {
    "ExecuteTime": {
     "end_time": "2021-02-08T05:13:45.490640Z",
     "start_time": "2021-02-08T05:13:45.480254Z"
    },
    "colab": {},
    "colab_type": "code",
    "id": "YefoQ1jpWKbz"
   },
   "outputs": [],
   "source": [
    "# create a new folder called elmo_model under research_notebooks\n",
    "filepath = \"elmo_model/weights_elmo_lstm_train_v10_epoch_{epoch:02d}.hdf5\"\n",
    "# checkpoint = ModelCheckpoint(filepath, monitor='val_loss', verbose=1, save_best_only=False)\n",
    "checkpoint = ModelCheckpoint(filepath, monitor='val_loss', verbose=1, save_best_only=True, save_weights_only=True,\n",
    "                             mode='auto', period=1)\n",
    "callbacks_list = [checkpoint]"
   ]
  },
  {
   "cell_type": "code",
   "execution_count": 14,
   "metadata": {
    "ExecuteTime": {
     "end_time": "2021-02-08T05:13:48.679372Z",
     "start_time": "2021-02-08T05:13:45.496938Z"
    },
    "colab": {
     "base_uri": "https://localhost:8080/",
     "height": 530
    },
    "colab_type": "code",
    "id": "AtsgZr2QXdJD",
    "outputId": "c664e1f4-6ff5-4fc6-e891-3560eb28002e"
   },
   "outputs": [
    {
     "name": "stderr",
     "output_type": "stream",
     "text": [
      "WARNING: Logging before flag parsing goes to stderr.\n",
      "W0208 13:13:45.500339 4688563648 module_wrapper.py:139] From /Users/i504346/miniconda3/envs/py36/lib/python3.6/site-packages/keras/backend/tensorflow_backend.py:74: The name tf.get_default_graph is deprecated. Please use tf.compat.v1.get_default_graph instead.\n",
      "\n",
      "W0208 13:13:45.507071 4688563648 module_wrapper.py:139] From /Users/i504346/miniconda3/envs/py36/lib/python3.6/site-packages/keras/backend/tensorflow_backend.py:529: The name tf.placeholder is deprecated. Please use tf.compat.v1.placeholder instead.\n",
      "\n",
      "W0208 13:13:45.990508 4688563648 module_wrapper.py:139] From /Users/i504346/miniconda3/envs/py36/lib/python3.6/site-packages/keras/backend/tensorflow_backend.py:4420: The name tf.random_uniform is deprecated. Please use tf.random.uniform instead.\n",
      "\n",
      "W0208 13:13:46.616711 4688563648 module_wrapper.py:139] From /Users/i504346/miniconda3/envs/py36/lib/python3.6/site-packages/keras/backend/tensorflow_backend.py:136: The name tf.placeholder_with_default is deprecated. Please use tf.compat.v1.placeholder_with_default instead.\n",
      "\n",
      "W0208 13:13:46.634765 4688563648 deprecation.py:506] From /Users/i504346/miniconda3/envs/py36/lib/python3.6/site-packages/keras/backend/tensorflow_backend.py:3721: calling dropout (from tensorflow.python.ops.nn_ops) with keep_prob is deprecated and will be removed in a future version.\n",
      "Instructions for updating:\n",
      "Please use `rate` instead of `keep_prob`. Rate should be set to `rate = 1 - keep_prob`.\n",
      "W0208 13:13:48.627626 4688563648 module_wrapper.py:139] From /Users/i504346/miniconda3/envs/py36/lib/python3.6/site-packages/keras/optimizers.py:793: The name tf.train.Optimizer is deprecated. Please use tf.compat.v1.train.Optimizer instead.\n",
      "\n",
      "W0208 13:13:48.653579 4688563648 module_wrapper.py:139] From /Users/i504346/miniconda3/envs/py36/lib/python3.6/site-packages/keras/backend/tensorflow_backend.py:3610: The name tf.log is deprecated. Please use tf.math.log instead.\n",
      "\n"
     ]
    },
    {
     "name": "stdout",
     "output_type": "stream",
     "text": [
      "Model: \"model_1\"\n",
      "__________________________________________________________________________________________________\n",
      "Layer (type)                    Output Shape         Param #     Connected to                     \n",
      "==================================================================================================\n",
      "input_1 (InputLayer)            (None, 42)           0                                            \n",
      "__________________________________________________________________________________________________\n",
      "lambda_1 (Lambda)               (None, None, 1024)   0           input_1[0][0]                    \n",
      "__________________________________________________________________________________________________\n",
      "bidirectional_1 (Bidirectional) (None, None, 1024)   6295552     lambda_1[0][0]                   \n",
      "__________________________________________________________________________________________________\n",
      "bidirectional_2 (Bidirectional) (None, None, 1024)   6295552     bidirectional_1[0][0]            \n",
      "__________________________________________________________________________________________________\n",
      "add_1 (Add)                     (None, None, 1024)   0           bidirectional_1[0][0]            \n",
      "                                                                 bidirectional_2[0][0]            \n",
      "__________________________________________________________________________________________________\n",
      "time_distributed_1 (TimeDistrib (None, None, 9)      9225        add_1[0][0]                      \n",
      "==================================================================================================\n",
      "Total params: 12,600,329\n",
      "Trainable params: 12,600,329\n",
      "Non-trainable params: 0\n",
      "__________________________________________________________________________________________________\n"
     ]
    }
   ],
   "source": [
    "model = build_model()"
   ]
  },
  {
   "cell_type": "markdown",
   "metadata": {
    "colab_type": "text",
    "id": "ktcm8qpdXf01"
   },
   "source": [
    "# Fit model"
   ]
  },
  {
   "cell_type": "code",
   "execution_count": 15,
   "metadata": {
    "ExecuteTime": {
     "end_time": "2021-02-08T05:45:37.521423Z",
     "start_time": "2021-02-08T05:13:48.683555Z"
    },
    "colab": {
     "base_uri": "https://localhost:8080/",
     "height": 181
    },
    "colab_type": "code",
    "id": "VncXdY9UXdgJ",
    "outputId": "9c2af708-04ea-44dc-9842-10e67698854b"
   },
   "outputs": [
    {
     "name": "stderr",
     "output_type": "stream",
     "text": [
      "W0208 13:13:48.968026 4688563648 deprecation.py:323] From /Users/i504346/miniconda3/envs/py36/lib/python3.6/site-packages/tensorflow_core/python/ops/math_grad.py:1424: where (from tensorflow.python.ops.array_ops) is deprecated and will be removed in a future version.\n",
      "Instructions for updating:\n",
      "Use tf.where in 2.0, which has the same broadcast rule as np.where\n",
      "W0208 13:13:51.085823 4688563648 module_wrapper.py:139] From /Users/i504346/miniconda3/envs/py36/lib/python3.6/site-packages/keras/backend/tensorflow_backend.py:1021: The name tf.assign_add is deprecated. Please use tf.compat.v1.assign_add instead.\n",
      "\n",
      "W0208 13:13:51.323439 4688563648 module_wrapper.py:139] From /Users/i504346/miniconda3/envs/py36/lib/python3.6/site-packages/keras/backend/tensorflow_backend.py:1008: The name tf.assign is deprecated. Please use tf.compat.v1.assign instead.\n",
      "\n",
      "W0208 13:13:51.618407 4688563648 module_wrapper.py:139] From /Users/i504346/miniconda3/envs/py36/lib/python3.6/site-packages/keras/backend/tensorflow_backend.py:2993: The name tf.Session is deprecated. Please use tf.compat.v1.Session instead.\n",
      "\n",
      "W0208 13:13:51.625534 4688563648 module_wrapper.py:139] From /Users/i504346/miniconda3/envs/py36/lib/python3.6/site-packages/keras/backend/tensorflow_backend.py:178: The name tf.get_default_session is deprecated. Please use tf.compat.v1.get_default_session instead.\n",
      "\n",
      "W0208 13:13:51.627104 4688563648 module_wrapper.py:139] From /Users/i504346/miniconda3/envs/py36/lib/python3.6/site-packages/keras/backend/tensorflow_backend.py:185: The name tf.ConfigProto is deprecated. Please use tf.compat.v1.ConfigProto instead.\n",
      "\n",
      "W0208 13:13:51.628826 4688563648 module_wrapper.py:139] From /Users/i504346/miniconda3/envs/py36/lib/python3.6/site-packages/keras/backend/tensorflow_backend.py:195: The name tf.global_variables is deprecated. Please use tf.compat.v1.global_variables instead.\n",
      "\n",
      "W0208 13:13:51.630033 4688563648 module_wrapper.py:139] From /Users/i504346/miniconda3/envs/py36/lib/python3.6/site-packages/keras/backend/tensorflow_backend.py:204: The name tf.is_variable_initialized is deprecated. Please use tf.compat.v1.is_variable_initialized instead.\n",
      "\n"
     ]
    },
    {
     "name": "stdout",
     "output_type": "stream",
     "text": [
      "Train on 7648 samples, validate on 832 samples\n",
      "Epoch 1/2\n"
     ]
    },
    {
     "name": "stderr",
     "output_type": "stream",
     "text": [
      "W0208 13:13:52.568729 4688563648 module_wrapper.py:139] From /Users/i504346/miniconda3/envs/py36/lib/python3.6/site-packages/keras/backend/tensorflow_backend.py:211: The name tf.variables_initializer is deprecated. Please use tf.compat.v1.variables_initializer instead.\n",
      "\n"
     ]
    },
    {
     "name": "stdout",
     "output_type": "stream",
     "text": [
      "7648/7648 [==============================] - 1028s 134ms/step - loss: 0.0716 - val_loss: 0.0154\n",
      "\n",
      "Epoch 00001: val_loss improved from inf to 0.01538, saving model to elmo_model/weights_elmo_lstm_train_v10_epoch_01.hdf5\n",
      "Epoch 2/2\n",
      "7648/7648 [==============================] - 876s 115ms/step - loss: 0.0094 - val_loss: 0.0096\n",
      "\n",
      "Epoch 00002: val_loss improved from 0.01538 to 0.00960, saving model to elmo_model/weights_elmo_lstm_train_v10_epoch_02.hdf5\n"
     ]
    }
   ],
   "source": [
    "history = model.fit(np.array(X_tr), y_tr, validation_data=(np.array(X_val), y_val),\n",
    "                    batch_size=batch_size, epochs=2, verbose=1, callbacks=callbacks_list)"
   ]
  },
  {
   "cell_type": "code",
   "execution_count": 16,
   "metadata": {
    "ExecuteTime": {
     "end_time": "2021-02-08T05:45:37.873635Z",
     "start_time": "2021-02-08T05:45:37.535821Z"
    },
    "colab": {},
    "colab_type": "code",
    "id": "hi180-saXmJx"
   },
   "outputs": [
    {
     "name": "stdout",
     "output_type": "stream",
     "text": [
      "Model built. Saved model.png\n"
     ]
    }
   ],
   "source": [
    "plot_model(model, to_file='elmo_model/model_lstm_elmo.png')\n",
    "print(\"Model built. Saved model.png\")"
   ]
  },
  {
   "cell_type": "code",
   "execution_count": 17,
   "metadata": {
    "ExecuteTime": {
     "end_time": "2021-02-08T05:45:38.157309Z",
     "start_time": "2021-02-08T05:45:37.876006Z"
    },
    "colab": {},
    "colab_type": "code",
    "id": "v43Me_BuYIiQ"
   },
   "outputs": [
    {
     "name": "stderr",
     "output_type": "stream",
     "text": [
      "W0208 13:45:37.985157 4688563648 legend.py:1282] No handles with labels found to put in legend.\n"
     ]
    },
    {
     "data": {
      "image/png": "[encoded data removed]",
      "text/plain": [
       "<Figure size 576x576 with 1 Axes>"
      ]
     },
     "metadata": {},
     "output_type": "display_data"
    }
   ],
   "source": [
    "hist = pd.DataFrame(history.history)\n",
    "\n",
    "plt.style.use(\"ggplot\")\n",
    "plt.figure(figsize=(8, 8))\n",
    "plt.plot(hist[\"loss\"])\n",
    "plt.plot(hist[\"val_loss\"])\n",
    "plt.legend()\n",
    "plt.show()"
   ]
  }
 ],
 "metadata": {
  "accelerator": "GPU",
  "colab": {
   "collapsed_sections": [],
   "name": "weights_elmo_lstm_train_v10.ipynb",
   "provenance": [],
   "version": "0.3.2"
  },
  "kernelspec": {
   "display_name": "Python 3",
   "language": "python",
   "name": "python3"
  },
  "language_info": {
   "codemirror_mode": {
    "name": "ipython",
    "version": 3
   },
   "file_extension": ".py",
   "mimetype": "text/x-python",
   "name": "python",
   "nbconvert_exporter": "python",
   "pygments_lexer": "ipython3",
   "version": "3.6.10"
  },
  "toc": {
   "base_numbering": 1,
   "nav_menu": {},
   "number_sections": true,
   "sideBar": true,
   "skip_h1_title": false,
   "title_cell": "Table of Contents",
   "title_sidebar": "Contents",
   "toc_cell": false,
   "toc_position": {},
   "toc_section_display": true,
   "toc_window_display": false
  }
 },
 "nbformat": 4,
 "nbformat_minor": 1
}
