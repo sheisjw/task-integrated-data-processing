{
 "cells": [
  {
   "cell_type": "code",
   "execution_count": 1,
   "metadata": {
    "ExecuteTime": {
     "end_time": "2021-02-08T06:00:03.427974Z",
     "start_time": "2021-02-08T05:59:59.065895Z"
    }
   },
   "outputs": [
    {
     "name": "stderr",
     "output_type": "stream",
     "text": [
      "I0208 14:00:00.275100 4665306560 file_utils.py:39] PyTorch version 1.6.0 available.\n",
      "I0208 14:00:03.327274 4665306560 textcleaner.py:37] 'pattern' package not found; tag filters are not available for English\n"
     ]
    }
   ],
   "source": [
    "import sys\n",
    "import uuid\n",
    "from confluent_kafka import Producer\n",
    "import json\n",
    "import joblib\n",
    "from flair.data import Sentence\n",
    "# sys.path.append('shared_functions')\n",
    "from shared_functions.preprocess import read_file"
   ]
  },
  {
   "cell_type": "code",
   "execution_count": 2,
   "metadata": {
    "ExecuteTime": {
     "end_time": "2021-02-08T06:00:03.436222Z",
     "start_time": "2021-02-08T06:00:03.429659Z"
    }
   },
   "outputs": [],
   "source": [
    "base_message = {\n",
    "#     \"columns\":[\"V1\",\"V2\",\"V3\",\"V4\",\"V5\",\"V6\",\"V7\",\"V8\",\"V9\",\"V10\",\"V11\",\"V12\",\"V13\",\"V14\",\"V15\",\"V16\",\"V17\",\"V18\",\"V19\",\"V20\",\"V21\",\"V22\",\"V23\",\"V24\",\"V25\",\"V26\",\"V27\",\"V28\",\"Amount\"],\n",
    "    \"data\":[]\n",
    "}"
   ]
  },
  {
   "cell_type": "code",
   "execution_count": 3,
   "metadata": {
    "ExecuteTime": {
     "end_time": "2021-02-08T06:00:03.442540Z",
     "start_time": "2021-02-08T06:00:03.440233Z"
    }
   },
   "outputs": [],
   "source": [
    "# sample_data = [\n",
    "# [12.8,0.029,0.48,0.98,6.2,29.1,3.33,1.2,0.39,75.1,0.66,11.2,1.3,0.2,12.8,0.029,0.45,0.98,6.2,29,3.33,1.2,0.39,75.3,0.3,2.2,1.3,2.2,1.01],\n",
    "# [0.8,0.2,0.32,0.1,5.2,29.1,3.4,1.2,0.4,75.1,0.77,1.2,1.3,1.2,11.8,0.002,0.48,0.99,6.2,4,3.33,1.2,0.2,75.3,0.4,1.2,1.3,2.2,2.01],\n",
    "# [11.2,20,0.1,0.98,6.2,29.1,3.23,1.2,0.7,75.1,0.88,1.22,1.4,2.2,3.8,0.003,0.45,0.1,6.2,29,3.8,1.2,0.39,75.3,0.5,1.6,1.3,3.2,3.001],\n",
    "# [2.1,0.34,0.34,0.2,4.2,29.1,3.1,1.2,0.2,75.1,0.99,1.32,1.5,3.2,0.8,0.02,0.48,0.2,6.2,6,3.33,1.2,0.3,75.3,0.6,0.2,1.3,5.2,5.2],\n",
    "# [0.08,0.22,0.1,0.98,6.2,29.1,3.33,1.2,0.56,75.1,0.1,1.42,1.6,4.2,0.8,0.1,0.45,0.3,6.2,29,3.7,1.2,0.39,75.3,0.7,1.2,1.3,7.2,1.21]\n",
    "# ]"
   ]
  },
  {
   "cell_type": "code",
   "execution_count": 4,
   "metadata": {
    "ExecuteTime": {
     "end_time": "2021-02-08T06:00:03.479413Z",
     "start_time": "2021-02-08T06:00:03.445641Z"
    }
   },
   "outputs": [],
   "source": [
    "sentences = ['How many opportunities does Torsten Albert have in the next quarter for the basf account which are in phase d and upside',\n",
    "'deals over 1 million euro',\n",
    "'tell me if you can find any deals for me',\n",
    "'find only committed deals for on premise products',\n",
    "'tell my deals with status New and won',\n",
    "'show only deals over 1 Million Euro',\n",
    "'please get me volkswagen details',\n",
    "'show deals with origin active renewal',\n",
    "'do you have any idea about deals from account 15998',\n",
    "'What accounts do I have in germany',\n",
    "'germany account details',\n",
    "\"can i see Martin Springer's all activities\",\n",
    "'find deals having revenue range greater than 100k euros',\n",
    "\"please tell me martin springer's probable deals\",\n",
    "\"can you tell me martin springer's probable deals\",\n",
    "'are there any opportunities worth more than a million in the next quarter',\n",
    "'show deals with status discontinued and status booked',\n",
    "'display deals with status booked',\n",
    "'get my deals for phase a and phase b',\n",
    "'do I have accounts in Belgium',\n",
    "'find any daimler account in Belgium',\n",
    "'open the list of all accounts at Netherland',\n",
    "'in this year how many activities do i have',\n",
    "'do i have any contacts available at volkswagen',\n",
    "'i want to see the details of Caterpillar account',\n",
    "'tell me if i can see my deals for next year',\n",
    "'how many activities can you list me for this week',\n",
    "'i want to know about all the contacts i have at volkswagen ag',\n",
    "'i would like to see the activities Martin Springer owns',\n",
    "'view contacts in HR department at Nike Inc',\n",
    "'what accounts exist in India',\n",
    "'do we have account axel springer in germany',\n",
    "'which accounts do we have in serbia',\n",
    "'I need somebody from HR department at SAP SE',\n",
    "'i need a list of AO for volkswagen ag',\n",
    "'would you please get me all my committed deals for the next quarter',\n",
    "\"list martin springer's next quarter opportunities that are not large\",\n",
    "'show only activities for my nike inc',\n",
    "'display my previous month activities',\n",
    "'display AEs at Transalta Corporation',\n",
    "'filter deal 300061767',\n",
    "'Filter the deals for Nike Inc',\n",
    "'filter last month activities',\n",
    "'filter Krupp Hoesch',\n",
    "'only belgium account',\n",
    "'Find contact Amandeep Hundal',\n",
    "\"Show me Martin Springer's role on Volkswagen\",\n",
    "'show my deals',\n",
    "'get my deals for Volkswagen',\n",
    "'get deals for the previous quarter',\n",
    "'get deals for CQ+1',\n",
    "'open my deal with the id 300054334',\n",
    "'find probable cloud deals over 1 million in the next quarter',\n",
    "'find my committed cloud deals',\n",
    "'show all my service deals',\n",
    "'find only committed deals',\n",
    "'display select deals',\n",
    "\"find vishal srivastava's deals\",\n",
    "'what are my in process deals',\n",
    "'show deals I own',\n",
    "'What deals do I own',\n",
    "'do I have deals that are less than 250 K',\n",
    "'How many deals do I have that are less than 250 K',\n",
    "'get my B negotiate deals',\n",
    "'get deals for account 159978',\n",
    "'find this year deals',\n",
    "'How many large deals do I have',\n",
    "'How many deals do I have that are big',\n",
    "'show me my large deals',\n",
    "\"find last year's opportunities\",\n",
    "'find last year deals',\n",
    "'my deals over 900k',\n",
    "'find only deals with a revenue  over 100k',\n",
    "'find gokul ramdass next quarter opportunities',\n",
    "'list my probable opportunities in the next year',\n",
    "'list my opportunities that are probable',\n",
    "'please present my current quarter deals',\n",
    "'I would like to view my opportunities for the current quarter',\n",
    "\"list anuragini's last year opportunities that are won\",\n",
    "\"list martin springer's next quarter opportunities that are large\",\n",
    "'show only those probable deals less than 500k',\n",
    "'How many deals do I have that are over 250 thousand',\n",
    "'find deals with a value more than 100k',\n",
    "'How many deals did I have in the last year less than 1 Million',\n",
    "'How many deals do I have less than 1 Million',\n",
    "\"find phase b deals which are probable and are ankit chaurasia's deals\",\n",
    "\"find martin springer's phase d and status new and phase a deals\",\n",
    "\"find martin springer's phase d deals\",\n",
    "'display deals with status discontinued and status booked',\n",
    "'show only probable and committed deals',\n",
    "'which deals are excluded from pipeline',\n",
    "'show excluded from pipeline and probable deals',\n",
    "'How many opportunities over 100 k does Manish Gupta have in the first quarter for caterpillar which are in phase b and probable',\n",
    "'look for my account caterpillar',\n",
    "'display caterpillar account',\n",
    "'open my accounts in Belgium',\n",
    "'display account 167545',\n",
    "'get my Nike Inc account in Denmark',\n",
    "'what are my accounts in India',\n",
    "'find coca cola account based in Canada',\n",
    "'account id 30875',\n",
    "'get 3m canada in germany',\n",
    "'open Transalta Corporation',\n",
    "'my accounts',\n",
    "'open Caterpillar',\n",
    "'my accounts in Netherlands ',\n",
    "'find the account with the id 159978',\n",
    "'show account 159978',\n",
    "'list my accounts',\n",
    "'find martin winterkorn at volkswagen ag',\n",
    "'Who is Michael Simpson at Volkswagen',\n",
    "'which are my contacts in the human resources department at nestle in Switzerland',\n",
    "'get my contacts at nestle',\n",
    "'what is the role of Dawn de Lima at Transalta corporation',\n",
    "'whom do i know at account 30875',\n",
    "'find my contacts in HR department at PepsiCo Inc',\n",
    "'who is in the marketing department at Daimler Ag',\n",
    "\"do you know Anuragini's function at Daimler Ag\",\n",
    "\"do you know Dieter Zetsche's function at Daimler Ag\",\n",
    "'Who is the Chief Technology Officer of Caterpillar',\n",
    "\"show ulrich springer's job for daimler\",\n",
    "'Who is the CSO of Robert Bosch',\n",
    "'find my contacts at 167545 account',\n",
    "'what are my contacts at 167545 account',\n",
    "\"tell Vishal Srivastava's department at Siemens\",\n",
    "'get an IT department contact at fiat in italy',\n",
    "'get a sales department contact at ferrari in italy',\n",
    "\"what is carlos ghosn's role at Renault\",\n",
    "\"tell Mark Zuckerberg's function at Facebook\",\n",
    "'tell me about Joe Kaeser at Siemens AG',\n",
    "'in which department at Siemens is Joe Kaeser',\n",
    "'Who do we know at volkswagen',\n",
    "'Who do I know at Siemens AG in France',\n",
    "'who do I know at siemens in Singapore',\n",
    "'Find contacts in Canada under account 10557260',\n",
    "'Find contacts in the marketing department for account 10557260  in Guadeloupe',\n",
    "'Who is the chief digital officer of 32667 account',\n",
    "'Show my contacts in the Marketing department of lmvh',\n",
    "'who is Martin Springer',\n",
    "'show me value engineer at Nike',\n",
    "'get the Account Owner of Volkswagen',\n",
    "\"I'd like to see the Account Owner of Volkswagen\",\n",
    "'who is executive sponsor for pepsiCo inc',\n",
    "'please find the Global Account Director for my account Bayerische Motorenwerke AG',\n",
    "'who is Global Account Director at bmw ag',\n",
    "'find Industry Account Exec for account 167545',\n",
    "'give me the Industry Account Executive for the Apple Computers',\n",
    "'give me the Account Owner for Volkswagen',\n",
    "'Find Amandeep Hundal',\n",
    "'who is a Value Engineer for the Springer AG',\n",
    "'who is Value Engineer at Nike Inc',\n",
    "\"what is Ankit Chaurasia's role on account 30875\",\n",
    "'is there any account owner for PepsiCo Inc',\n",
    "'Who is Anuragini',\n",
    "'display all activities for BASF AG in this year',\n",
    "\"get volkswagen account's activities\",\n",
    "\"Find Anuragini's activities\",\n",
    "'what are my activities for tomorrow',\n",
    "'display my activities this month',\n",
    "'which of my activities are in completed or open status',\n",
    "'find my activities that are open and in process this week',\n",
    "\"find Martin springer's activities\",\n",
    "'show me my Nike Inc activities this week',\n",
    "'list contact Ankit chaurasia activities this month',\n",
    "'what are activities for Gokulraj Ramdass in the next month',\n",
    "'find all the activities of Martin Springer in the last month',\n",
    "'what are my Caterpillar activities last year',\n",
    "'display my activities in in process and completed status',\n",
    "'what are my activities',\n",
    "'previous month activities',\n",
    "\"list Ramdass Gokul's activities\",\n",
    "'filter germany account',\n",
    "'limit it to country germany',\n",
    "'find customer with account id 30875',\n",
    "'get my Forest Products, Furniture & Textiles account',\n",
    "'get my Engineering, Construction and Operation in bmw account']\n",
    "\n",
    "sentences_all = [Sentence(sent, use_tokenizer=True) for sent in sentences]\n",
    "\n",
    "\n",
    "# %time model.predict(sentences_all, mini_batch_size=32)"
   ]
  },
  {
   "cell_type": "code",
   "execution_count": 5,
   "metadata": {
    "ExecuteTime": {
     "end_time": "2021-02-08T06:00:03.489209Z",
     "start_time": "2021-02-08T06:00:03.481621Z"
    }
   },
   "outputs": [
    {
     "data": {
      "text/plain": [
       "Sentence: \"How many opportunities does Torsten Albert have in the next quarter for the basf account which are in phase d and upside\"   [− Tokens: 22]"
      ]
     },
     "execution_count": 5,
     "metadata": {},
     "output_type": "execute_result"
    }
   ],
   "source": [
    "sentences_all[0]"
   ]
  },
  {
   "cell_type": "code",
   "execution_count": 6,
   "metadata": {
    "ExecuteTime": {
     "end_time": "2021-02-08T06:00:03.494470Z",
     "start_time": "2021-02-08T06:00:03.491338Z"
    }
   },
   "outputs": [],
   "source": [
    "bootstrap_servers='127.0.0.1:9092'\n",
    "topic='topic_a'\n",
    "msg_count=5"
   ]
  },
  {
   "cell_type": "code",
   "execution_count": 7,
   "metadata": {
    "ExecuteTime": {
     "end_time": "2021-02-08T06:00:03.499471Z",
     "start_time": "2021-02-08T06:00:03.496806Z"
    }
   },
   "outputs": [],
   "source": [
    "import pickle"
   ]
  },
  {
   "cell_type": "code",
   "execution_count": 8,
   "metadata": {
    "ExecuteTime": {
     "end_time": "2021-02-08T06:00:03.508848Z",
     "start_time": "2021-02-08T06:00:03.502063Z"
    }
   },
   "outputs": [],
   "source": [
    "def delivery_report(err, msg):\n",
    "    \"\"\" Called once for each message produced to indicate delivery result.\n",
    "        Triggered by poll() or flush(). \"\"\"\n",
    "    if err is not None:\n",
    "        print('Message delivery failed: {}'.format(err))\n",
    "    else:\n",
    "        print('Message delivered to {}'.format(msg.topic()))\n",
    "\n",
    "def confluent_kafka_producer(i):\n",
    "\n",
    "    p = Producer({'bootstrap.servers': bootstrap_servers})\n",
    "    for data in sentences[5*i:5*i+5]:\n",
    "\n",
    "        record_key = str(uuid.uuid4())\n",
    "        base_message['data'] = [data]\n",
    "        record_value = json.dumps(base_message)\n",
    "\n",
    "        p.produce(topic, key=record_key, value=record_value, on_delivery=delivery_report)\n",
    "        p.poll(0)\n",
    "\n",
    "    p.flush()\n",
    "    print('we\\'ve sent {count} messages to {brokers}'.format(count=len(sentences_all), brokers=bootstrap_servers))"
   ]
  },
  {
   "cell_type": "code",
   "execution_count": 9,
   "metadata": {
    "ExecuteTime": {
     "end_time": "2021-02-08T06:00:08.066617Z",
     "start_time": "2021-02-08T06:00:03.511474Z"
    }
   },
   "outputs": [
    {
     "name": "stdout",
     "output_type": "stream",
     "text": [
      "Message delivered to topic_a\n",
      "Message delivered to topic_a\n",
      "Message delivered to topic_a\n",
      "Message delivered to topic_a\n",
      "Message delivered to topic_a\n",
      "we've sent 176 messages to 127.0.0.1:9092\n"
     ]
    }
   ],
   "source": [
    "# run the producer and add some data to kafka\n",
    "confluent_kafka_producer(0)"
   ]
  },
  {
   "cell_type": "code",
   "execution_count": 10,
   "metadata": {
    "ExecuteTime": {
     "end_time": "2021-02-08T06:00:08.089980Z",
     "start_time": "2021-02-08T06:00:08.069209Z"
    }
   },
   "outputs": [
    {
     "name": "stdout",
     "output_type": "stream",
     "text": [
      "Message delivered to topic_a\n",
      "Message delivered to topic_a\n",
      "Message delivered to topic_a\n",
      "Message delivered to topic_a\n",
      "Message delivered to topic_a\n",
      "we've sent 176 messages to 127.0.0.1:9092\n"
     ]
    }
   ],
   "source": [
    "# run the producer and add some data to kafka\n",
    "confluent_kafka_producer(3)"
   ]
  },
  {
   "cell_type": "code",
   "execution_count": null,
   "metadata": {},
   "outputs": [],
   "source": []
  }
 ],
 "metadata": {
  "kernelspec": {
   "display_name": "Python 3",
   "language": "python",
   "name": "python3"
  },
  "language_info": {
   "codemirror_mode": {
    "name": "ipython",
    "version": 3
   },
   "file_extension": ".py",
   "mimetype": "text/x-python",
   "name": "python",
   "nbconvert_exporter": "python",
   "pygments_lexer": "ipython3",
   "version": "3.6.10"
  },
  "toc": {
   "base_numbering": 1,
   "nav_menu": {},
   "number_sections": true,
   "sideBar": true,
   "skip_h1_title": false,
   "title_cell": "Table of Contents",
   "title_sidebar": "Contents",
   "toc_cell": false,
   "toc_position": {},
   "toc_section_display": true,
   "toc_window_display": false
  }
 },
 "nbformat": 4,
 "nbformat_minor": 4
}
